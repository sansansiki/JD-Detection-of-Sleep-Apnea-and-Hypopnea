{
 "cells": [
  {
   "cell_type": "markdown",
   "metadata": {},
   "source": [
    "采用 HIVE_CODE V2 的集成机器学习方法来对时间序列进行分类\n"
   ]
  },
  {
   "cell_type": "code",
   "execution_count": 1,
   "metadata": {},
   "outputs": [],
   "source": [
    "import pandas as pd\n",
    "import warnings\n",
    "from sklearn.metrics import classification_report\n",
    "warnings.filterwarnings('ignore')\n",
    "import numpy as np\n",
    "np.seterr(divide='ignore',invalid='ignore')\n",
    "import pickle as pkl"
   ]
  },
  {
   "cell_type": "markdown",
   "metadata": {},
   "source": [
    "1.加载数据\n"
   ]
  },
  {
   "cell_type": "code",
   "execution_count": 8,
   "metadata": {},
   "outputs": [],
   "source": [
    "def load_file_with_p(file_path):\n",
    "    '''载入,p二进制文件'''\n",
    "    return pkl.load(open(file_path,'rb'))\n",
    "\n",
    "def save_file_with_p(save_df,file_path):\n",
    "    '''载入,p二进制文件'''\n",
    "    pkl.dump(save_df,open(file_path,'wb'))"
   ]
  },
  {
   "cell_type": "code",
   "execution_count": 9,
   "metadata": {},
   "outputs": [
    {
     "name": "stdout",
     "output_type": "stream",
     "text": [
      "训练集：(15000, 2, 180) 标签：(15000,)\n",
      "测试集(1155, 2, 180)\n"
     ]
    }
   ],
   "source": [
    "train_X = np.load('/train_x.npy') \n",
    "train_y = np.load('/train_y.npy') \n",
    "\n",
    "test_X = np.load('/test_x_A.npy')\n",
    "\n",
    "train_X=train_X[:15000]\n",
    "train_y=train_y[:15000]\n",
    "print(f'训练集：{train_X.shape} 标签：{train_y.shape}')\n",
    "print(f'测试集{test_X.shape}')"
   ]
  },
  {
   "cell_type": "markdown",
   "metadata": {},
   "source": [
    "2. 五折交叉验证训练模型\n"
   ]
  },
  {
   "cell_type": "code",
   "execution_count": 10,
   "metadata": {},
   "outputs": [],
   "source": [
    "train_X = train_X.astype(np.int32)\n",
    "test_X = test_X.astype(np.int32)\n",
    "train_y = train_y.astype(np.int32)"
   ]
  },
  {
   "cell_type": "code",
   "execution_count": 12,
   "metadata": {},
   "outputs": [
    {
     "name": "stdout",
     "output_type": "stream",
     "text": [
      "The Fold 0 is training\n"
     ]
    }
   ],
   "source": [
    "from sklearn.model_selection import KFold\n",
    "from aeon.classification.hybrid import HIVECOTEV2\n",
    "from aeon.classification.convolution_based import MultiRocketHydraClassifier\n",
    "\n",
    "results = []\n",
    "kf = KFold(n_splits=5, shuffle=False)\n",
    "cur_fold = 0\n",
    "for train_index, valid_index in kf.split(train_X): \n",
    "    print(f'The Fold {cur_fold} is training')\n",
    "    # model = MultiRocketHydraClassifier(n_groups=32,random_state=0)  \n",
    "    model = HIVECOTEV2()\n",
    "\n",
    "    X_train, x_valid = train_X[train_index], train_X[valid_index] \n",
    "    y_train, y_valid = train_y[train_index], train_y[valid_index] \n",
    "\n",
    "    model.fit(X_train, y_train) # 训练\n",
    "    y_predict_rate = model.predict(x_valid) # 预测\n",
    "    result = classification_report(y_valid, y_predict_rate, output_dict=True)# 多分类测试结果  ,[p, r, best_f1_score]\n",
    "    print(result)\n",
    "    results.append(result)\n",
    "    save_file_with_p(model,f'/home/gsl/workspace/jd/model/H2/fold_{cur_fold}.p')\n",
    "    cur_fold+=1"
   ]
  },
  {
   "cell_type": "code",
   "execution_count": 17,
   "metadata": {},
   "outputs": [
    {
     "data": {
      "text/plain": [
       "dtype('float64')"
      ]
     },
     "execution_count": 17,
     "metadata": {},
     "output_type": "execute_result"
    }
   ],
   "source": [
    "from aeon.classification.convolution_based import MultiRocketHydraClassifier\n",
    "from aeon.testing.utils.data_gen import make_example_3d_numpy\n",
    "X, y = make_example_3d_numpy(n_cases=10, n_channels=1, n_timepoints=12,\n",
    "                             random_state=0)\n",
    "clf = MultiRocketHydraClassifier(random_state=0)  \n",
    "# clf.fit(X, y)  \n",
    "\n",
    "# clf.predict(X)  \n",
    "X.dtype"
   ]
  },
  {
   "cell_type": "code",
   "execution_count": 3,
   "metadata": {},
   "outputs": [
    {
     "name": "stdout",
     "output_type": "stream",
     "text": [
      "[   0    1    2 ... 9997 9998 9999]\n",
      "[   3    5    6 ... 9997 9998 9999]\n",
      "[   0    1    2 ... 9997 9998 9999]\n",
      "[   0    1    2 ... 9996 9998 9999]\n",
      "[   0    1    2 ... 9993 9994 9997]\n"
     ]
    }
   ],
   "source": [
    "from sklearn.model_selection import KFold\n",
    "from aeon.classification.hybrid import HIVECOTEV2\n",
    "from concurrent.futures import ThreadPoolExecutor, as_completed\n",
    "from datetime import datetime\n",
    "from aeon.classification.convolution_based import MultiRocketHydraClassifier\n",
    "\n",
    "def train_and_evaluate(train_index, valid_index):\n",
    "    # model = HIVECOTEV2()\n",
    "    model = MultiRocketHydraClassifier(random_state=0)  \n",
    "    print(train_index)\n",
    "    X_train, x_valid = train_X[train_index], train_X[valid_index] \n",
    "    y_train, y_valid = train_y[train_index], train_y[valid_index] \n",
    "\n",
    "    model.fit(X_train, y_train)\n",
    "    y_predict_rate = model.predict(x_valid) # 预测\n",
    "    result = classification_report(y_valid, y_predict_rate, output_dict=True)# 多分类测试结果  ,[p, r, best_f1_score]\n",
    "    print(result)\n",
    "    current_time = datetime.now()\n",
    "\n",
    "    save_file_with_p(model,f'/H2/fold_{current_time}.p')\n",
    "\n",
    "\n",
    "kf = KFold(n_splits=5, shuffle=True)\n",
    "with ThreadPoolExecutor(max_workers=5) as executor:\n",
    "    futures = []\n",
    "\n",
    "    for train_index, test_index in kf.split(train_X):\n",
    "        futures.append(executor.submit(train_and_evaluate, train_index, test_index))"
   ]
  },
  {
   "cell_type": "code",
   "execution_count": null,
   "metadata": {},
   "outputs": [],
   "source": []
  },
  {
   "cell_type": "code",
   "execution_count": null,
   "metadata": {},
   "outputs": [],
   "source": [
    "clf = MultiRocketHydraClassifier(random_state=0)  "
   ]
  }
 ],
 "metadata": {
  "kernelspec": {
   "display_name": "base",
   "language": "python",
   "name": "python3"
  },
  "language_info": {
   "codemirror_mode": {
    "name": "ipython",
    "version": 3
   },
   "file_extension": ".py",
   "mimetype": "text/x-python",
   "name": "python",
   "nbconvert_exporter": "python",
   "pygments_lexer": "ipython3",
   "version": "3.9.7"
  }
 },
 "nbformat": 4,
 "nbformat_minor": 2
}
